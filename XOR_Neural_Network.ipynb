
import numpy as np
from tensorflow.keras.models import Sequential
from tensorflow.keras.layers import Dense, Input
from tensorflow.keras.optimizers import Adam

X = np.array([[0,0],[0,1],[1,0],[1,1]])
Y = np.array([[0],[1],[1],[0]])

model = Sequential([
    Input(shape=(2,)),
    Dense(2, activation='sigmoid'),
    Dense(1, activation='sigmoid')
])

model.compile(optimizer=Adam(learning_rate=0.1), loss='binary_crossentropy', metrics=['accuracy'])
model.fit(X, Y, epochs=500, verbose=1)

loss, acc = model.evaluate(X, Y)
print(f"Loss: {loss}")
print(f"Accuracy: {acc}")
predictions=model.predict(X)
print("\npredictions:")
for i in range(len(X)):
  print(f"{X[i]}->{predictions[i][0]:.4f}")
