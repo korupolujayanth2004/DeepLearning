{
  "nbformat": 4,
  "nbformat_minor": 0,
  "metadata": {
    "colab": {
      "provenance": [],
      "authorship_tag": "ABX9TyNlxM2NLfOIoBovxh5nDyZx",
      "include_colab_link": true
    },
    "kernelspec": {
      "name": "python3",
      "display_name": "Python 3"
    },
    "language_info": {
      "name": "python"
    }
  },
  "cells": [
    {
      "cell_type": "markdown",
      "metadata": {
        "id": "view-in-github",
        "colab_type": "text"
      },
      "source": [
        "<a href=\"https://colab.research.google.com/github/korupolujayanth2004/DeepLearning/blob/main/Perceptron_Logic_Gates.ipynb\" target=\"_parent\"><img src=\"https://colab.research.google.com/assets/colab-badge.svg\" alt=\"Open In Colab\"/></a>"
      ]
    },
    {
      "cell_type": "code",
      "execution_count": 5,
      "metadata": {
        "colab": {
          "base_uri": "https://localhost:8080/"
        },
        "id": "5k93AvidgGeU",
        "outputId": "61ab256d-0f7c-4da8-be62-140fc7fb5645"
      },
      "outputs": [
        {
          "output_type": "stream",
          "name": "stdout",
          "text": [
            "AND Gate:\n",
            "0 0 -> 0\n",
            "0 1 -> 0\n",
            "1 0 -> 0\n",
            "1 1 -> 1\n",
            "OR Gate:\n",
            "0 0 -> 0\n",
            "0 1 -> 1\n",
            "1 0 -> 1\n",
            "1 1 -> 1\n",
            "NOT Gate:\n",
            "0 -> 1\n",
            "1 -> 0\n"
          ]
        }
      ],
      "source": [
        "def perceptron(inputs,weights,bias):\n",
        "  output=sum(w*x for w,x in zip(weights,inputs))+bias\n",
        "  return 1 if output>=0 else 0\n",
        "\n",
        "def and_gate(x1,x2):\n",
        "  return perceptron([x1,x2],weights=[1,1],bias=-1.5)\n",
        "\n",
        "def or_gate(x1,x2):\n",
        "  return perceptron([x1,x2],weights=[1,1],bias=-0.5)\n",
        "\n",
        "def not_gate(x1):\n",
        "  return perceptron([x1],weights=[-1],bias=0.5)\n",
        "\n",
        "#And Gate\n",
        "print(\"AND Gate:\")\n",
        "print(\"0 0 ->\", and_gate(0,0))\n",
        "print(\"0 1 ->\",and_gate(0,1))\n",
        "print(\"1 0 ->\",and_gate(1,0))\n",
        "print(\"1 1 ->\",and_gate(1,1))\n",
        "\n",
        "#Or_Gate\n",
        "print(\"OR Gate:\")\n",
        "print(\"0 0 ->\", or_gate(0,0))\n",
        "print(\"0 1 ->\",or_gate(0,1))\n",
        "print(\"1 0 ->\",or_gate(1,0))\n",
        "print(\"1 1 ->\",or_gate(1,1))\n",
        "\n",
        "#NotGate\n",
        "print(\"NOT Gate:\")\n",
        "print(\"0 ->\",not_gate(0))\n",
        "print(\"1 ->\",not_gate(1))"
      ]
    },
    {
      "cell_type": "code",
      "source": [],
      "metadata": {
        "id": "T3BpJX_HhCXO"
      },
      "execution_count": null,
      "outputs": []
    }
  ]
}